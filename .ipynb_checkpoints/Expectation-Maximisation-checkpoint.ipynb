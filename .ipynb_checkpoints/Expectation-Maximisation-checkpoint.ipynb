{
 "cells": [
  {
   "cell_type": "markdown",
   "id": "29dbf9ad",
   "metadata": {},
   "source": [
    "## <font color = \"brown\"> Importing Libraries </font>"
   ]
  },
  {
   "cell_type": "code",
   "execution_count": null,
   "id": "2a493e5d",
   "metadata": {},
   "outputs": [],
   "source": [
    "import numpy as np"
   ]
  },
  {
   "cell_type": "markdown",
   "id": "2eb163ca",
   "metadata": {},
   "source": [
    "## <font color = \"brown\"> Generating Data </font>"
   ]
  },
  {
   "cell_type": "markdown",
   "id": "9bdcf259",
   "metadata": {},
   "source": [
    "$$\n",
    "\\begin{aligned}\n",
    "\\text{Let, }\\space\\space Z_i&: \\text{The cluster of data i}\\\\\n",
    "X_i &:\\text{The value of data i}\n",
    "\\\\\n",
    "\\\\\\text{We want to generate }&\\text{from a poisson mixture model where,} \\\\\n",
    "\\\\Z_i \\sim \\space&\\text{Categorical}(\\pi_1, \\pi_2) \\\\\n",
    "\\\\\\text{if } Z_i &= 1: \\\\\n",
    "&\\space\\space X_i \\sim \\text{Poisson}(\\lambda_1) \\\\\n",
    "\\text{if } Z_i &= 2: \\\\\n",
    "&\\space\\space X_i \\sim \\text{Poisson}(\\lambda_2) \\\\\n",
    "\\space \\\\\n",
    "\\space \\\\\n",
    "P(Z_i = 1) &= \\pi_1 \\\\\n",
    "P(Z_i = 2) &= \\pi_2 \\\\\n",
    "\\space \\\\\n",
    "\\space \\\\\n",
    "\\end{aligned}\n",
    "$$"
   ]
  },
  {
   "cell_type": "code",
   "execution_count": null,
   "id": "d5e3fb67",
   "metadata": {},
   "outputs": [],
   "source": [
    "N = 1000\n",
    "\n",
    "# Actual parameters that we do not know\n",
    "# The EM Algorithm is trying to estimate these values\n",
    "Pi1 = 0.2\n",
    "Pi2 = 0.8\n",
    "Lambda1 = 2\n",
    "Lambda2 = 8\n",
    "\n",
    "Z1 = np.random.poisson(Lambda1, round(N * Pi1))\n",
    "Z2 = np.random.poisson(Lambda2, round(N * Pi2))\n",
    "X = np.concatenate((Z1, Z2))"
   ]
  },
  {
   "cell_type": "markdown",
   "id": "adccb71c",
   "metadata": {},
   "source": [
    "## <font color = \"brown\"> Algorithm </font>"
   ]
  },
  {
   "cell_type": "code",
   "execution_count": null,
   "id": "abcf43e7",
   "metadata": {},
   "outputs": [],
   "source": [
    "def Poisson(x, l):\n",
    "    \n",
    "    # Returns pmf of poisson distribution\n",
    "    pmf = (l ** x) * np.exp(-l) / np.math.factorial(x)\n",
    "    return pmf"
   ]
  },
  {
   "cell_type": "code",
   "execution_count": null,
   "id": "e8c8b4d1",
   "metadata": {},
   "outputs": [],
   "source": [
    "def Posterior(X, lambdas, probs):\n",
    "    \n",
    "    Post = []\n",
    "    \n",
    "    for data in X: # Loop through each class\n",
    "        \n",
    "        EachClass = []\n",
    "        for i in range(len(lambdas)): # Loop through each data\n",
    "\n",
    "            # Calculate likelihood\n",
    "            term = Poisson(data, lambdas[i]) * probs[i]\n",
    "            EachClass.append(term)\n",
    "\n",
    "        # Calculate posterior\n",
    "        EachClass = [x/sum(EachClass) for x in EachClass]\n",
    "    \n",
    "        Post.append(EachClass)\n",
    "        \n",
    "    # Returns n-dimensional list of posterior probabilities\n",
    "    # Where n: Number of clusters\n",
    "    return np.array(Post).T.tolist()"
   ]
  },
  {
   "cell_type": "code",
   "execution_count": null,
   "id": "5602738c",
   "metadata": {},
   "outputs": [],
   "source": [
    "def OptimalPi(posterior):\n",
    "    \n",
    "    Numerator = []\n",
    "    Denominator = []\n",
    "    \n",
    "    # Get posteriors for each cluster\n",
    "    A1 = posterior[0]\n",
    "    A2 = posterior[1]\n",
    "    \n",
    "    # Create a list of A1 + A2\n",
    "    A1PlusA2 = [a + b for a, b in zip(A1, A2)]\n",
    "        \n",
    "    # Calculate optimal pi1\n",
    "    pi1 = sum(A1)/sum(A1PlusA2)\n",
    "    \n",
    "    return pi1, 1 - pi1"
   ]
  },
  {
   "cell_type": "code",
   "execution_count": null,
   "id": "ef1ef89e",
   "metadata": {},
   "outputs": [],
   "source": [
    "def OptimalLambda(X, posterior):\n",
    "    \n",
    "    NewLambdas = []\n",
    "    \n",
    "    for i in range(len(posterior)): # Loop through each class\n",
    "        \n",
    "        # Get posterior of cluster\n",
    "        A = posterior[i]\n",
    "        \n",
    "        # Create list for A * Data\n",
    "        Numerator = [a * b for a, b in zip(X, A)]\n",
    "        \n",
    "        # Calculate optimal lambda\n",
    "        lambd = sum(Numerator)/sum(A) \n",
    "        NewLambdas.append(lambd)\n",
    "    \n",
    "    return NewLambdas"
   ]
  },
  {
   "cell_type": "code",
   "execution_count": null,
   "id": "b4b57480",
   "metadata": {},
   "outputs": [],
   "source": [
    "def IncompleLogLikelihood(X, lambdas, probs):\n",
    "    \n",
    "    LogLikes = []\n",
    "    \n",
    "    for data in X: # Loop through each data\n",
    "        \n",
    "        Likelihoods = []\n",
    "        \n",
    "        for i in range(len(lambdas)): # Loop through each class\n",
    "            \n",
    "            likelihood = Poisson(data, lambdas[i]) * probs[i] # Calculate likelihood\n",
    "            Likelihoods.append(likelihood)\n",
    "            \n",
    "        LogLike = np.log(sum(Likelihoods)) # Calculate log of sum of likelihood\n",
    "        LogLikes.append(LogLike)\n",
    "        \n",
    "    # Calculate incomplete log-likelihood\n",
    "    Incomplete = sum(LogLikes)\n",
    "    return Incomplete\n",
    "        "
   ]
  },
  {
   "cell_type": "code",
   "execution_count": null,
   "id": "9de0c5ca",
   "metadata": {},
   "outputs": [],
   "source": [
    "# X: The data (1 dimensional)\n",
    "# lambdas: list of initial lambda guesses\n",
    "# probs: list of initial pi guesses\n",
    "\n",
    "def ExpectationMaximisation(X, lambdas, probs):\n",
    "    \n",
    "    Incompletes = []\n",
    "    delta = 1\n",
    "    epsilon = 1e-5\n",
    "    iter = 0\n",
    "\n",
    "    while delta > epsilon:\n",
    "        \n",
    "        # Calculate posterior probabilities\n",
    "        # Given current parameters lambdas and probs\n",
    "        posteriors = Posterior(X, lambdas, probs)\n",
    "        \n",
    "        # Calculate new optimal parameters\n",
    "        # Given current posterior probabilities\n",
    "        probs = OptimalPi(posteriors)\n",
    "        lambdas = OptimalLambda(X, posteriors)\n",
    "\n",
    "        # Calculate incomplete log-likelihood with new parameters\n",
    "        ILL = IncompleLogLikelihood(X, lambdas, probs)\n",
    "        Incompletes.append(ILL)\n",
    "        \n",
    "        # Calculate change in incomplete log-likelihood\n",
    "        if len(Incompletes) > 1:\n",
    "            Current = Incompletes[len(Incompletes) - 1]\n",
    "            Previous = Incompletes[len(Incompletes) - 2]\n",
    "            delta = Current - Previous\n",
    "    \n",
    "        iter += 1\n",
    "    print(f\"EM Algorithm completed in {iter} iterations!\")\n",
    "    \n",
    "    return lambdas, probs"
   ]
  },
  {
   "cell_type": "code",
   "execution_count": null,
   "id": "d959905f",
   "metadata": {},
   "outputs": [],
   "source": [
    "lambdas = [1, 2]\n",
    "probs = [0.5, 0.5]\n",
    "\n",
    "FinalLambda, FinalProb = ExpectationMaximisation(X, lambdas, probs)"
   ]
  },
  {
   "cell_type": "markdown",
   "id": "72442a5f",
   "metadata": {},
   "source": [
    "## <font color = \"brown\"> Clustering </font>"
   ]
  },
  {
   "cell_type": "code",
   "execution_count": null,
   "id": "6be3d581",
   "metadata": {},
   "outputs": [],
   "source": [
    "import pandas as pd\n",
    "\n",
    "def Clustering(X, lambdas, probs):\n",
    "\n",
    "    # Calculate posterior with final estimates\n",
    "    A = Posterior(X, lambdas, probs)\n",
    "    df = pd.DataFrame(A).T\n",
    "    df.columns += 1\n",
    "    \n",
    "    # Find cluster with largest posterior\n",
    "    df[\"Cluster\"] = df.idxmax(axis=1)\n",
    "    \n",
    "    return df[\"Cluster\"].to_numpy()"
   ]
  },
  {
   "cell_type": "code",
   "execution_count": null,
   "id": "2130893a",
   "metadata": {},
   "outputs": [],
   "source": [
    "Clusters = Clustering(X, lambdas, probs)"
   ]
  }
 ],
 "metadata": {
  "kernelspec": {
   "display_name": "Python 3 (ipykernel)",
   "language": "python",
   "name": "python3"
  },
  "language_info": {
   "codemirror_mode": {
    "name": "ipython",
    "version": 3
   },
   "file_extension": ".py",
   "mimetype": "text/x-python",
   "name": "python",
   "nbconvert_exporter": "python",
   "pygments_lexer": "ipython3",
   "version": "3.7.7"
  }
 },
 "nbformat": 4,
 "nbformat_minor": 5
}
